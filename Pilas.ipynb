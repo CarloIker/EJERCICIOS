{
  "nbformat": 4,
  "nbformat_minor": 0,
  "metadata": {
    "colab": {
      "name": "Pilas.ipynb",
      "provenance": [],
      "collapsed_sections": [],
      "authorship_tag": "ABX9TyOhs9ZDAgIpZ01+gRymNGGa",
      "include_colab_link": true
    },
    "kernelspec": {
      "name": "python3",
      "display_name": "Python 3"
    },
    "language_info": {
      "name": "python"
    }
  },
  "cells": [
    {
      "cell_type": "markdown",
      "metadata": {
        "id": "view-in-github",
        "colab_type": "text"
      },
      "source": [
        "<a href=\"https://colab.research.google.com/github/CarloIker/EJERCICIOS/blob/main/Pilas.ipynb\" target=\"_parent\"><img src=\"https://colab.research.google.com/assets/colab-badge.svg\" alt=\"Open In Colab\"/></a>"
      ]
    },
    {
      "cell_type": "code",
      "metadata": {
        "id": "XG__enG3MuMg"
      },
      "source": [
        "class StackADT:\n",
        "  def __init__(self):\n",
        "    self.__data = list()\n",
        "\n",
        "  def is_empty(self):\n",
        "    return len(self.__data) == 0\n",
        "\n",
        "  def get_lenght(self):\n",
        "    return len(self.__data)\n",
        "\n",
        "  def pop(self):\n",
        "    if self.is_empty():\n",
        "      print('Pila vacía, nada que sacar')\n",
        "    else:\n",
        "      return self.__data.pop()\n",
        "\n",
        "  def peek(self):\n",
        "    if self.is_empty():\n",
        "      print('Pila vacía, nada que sacar')\n",
        "    else:\n",
        "      return self.__data[-1]\n",
        "\n",
        "  def push(self, value):\n",
        "    return self.__data.append(value)\n",
        "\n",
        "  def to_string(self):\n",
        "    for item in self.__data[ : : -1]:\n",
        "      print(f'| {item} |')"
      ],
      "execution_count": 1,
      "outputs": []
    },
    {
      "cell_type": "code",
      "metadata": {
        "id": "GYMvWQBUQesv"
      },
      "source": [
        "pila = StackADT()\n",
        "print('Está vacía? = ', pila.is_empty())\n",
        "print('# elementos: ', pila.get_lenght())\n",
        "pila.push(10)\n",
        "print('Está vacía? = ', pila.is_empty())\n",
        "print('# elementos: ', pila.get_lenght())\n",
        "pila.push(20)\n",
        "pila.push(30)\n",
        "pila.push(40)\n",
        "pila.to_string()\n",
        "print(pila.pop())\n",
        "print(pila.peek())\n",
        "pila.to_string()"
      ],
      "execution_count": null,
      "outputs": []
    },
    {
      "cell_type": "markdown",
      "metadata": {
        "id": "R-_6lLdIykcn"
      },
      "source": [
        "#Aplicación de pilas, balanceo de llaves en programación"
      ]
    },
    {
      "cell_type": "code",
      "metadata": {
        "colab": {
          "base_uri": "https://localhost:8080/"
        },
        "id": "XjQA6RTJzRa5",
        "outputId": "b9330207-2b4d-4edb-b0af-932880205168"
      },
      "source": [
        "! cat prog.txt"
      ],
      "execution_count": 3,
      "outputs": [
        {
          "output_type": "stream",
          "name": "stdout",
          "text": [
            "#include <stdio.h>\n",
            "int main()\n",
            "{\n",
            "    int num, count, sum = 0;\n",
            "\n",
            "    printf(\"Enter a positive integer: \");\n",
            "    scanf(\"%d\", &num);\n",
            "\n",
            "    // for loop terminates when num is less than count\n",
            "    for(count = 1; count <= num; ++count)\n",
            "    {\n",
            "        sum += count;\n",
            "    }\n",
            "\n",
            "    printf(\"Sum = %d\", sum);\n",
            "\n",
            "    return 0;\n",
            "}"
          ]
        }
      ]
    },
    {
      "cell_type": "code",
      "metadata": {
        "colab": {
          "base_uri": "https://localhost:8080/"
        },
        "id": "0fzpLlQ_z27t",
        "outputId": "9b2ee608-448f-4dd7-bc6d-54f0de7c8707"
      },
      "source": [
        "entrada = open('prog.txt', 'rt')\n",
        "codigo = entrada.read()\n",
        "#print(codigo)\n",
        "pilaControl = StackADT()\n",
        "pilaControl.push(\"#\") #caracter pila vacía\n",
        "\n",
        "for letra in codigo:\n",
        "  #print(f'--> {letra} <--')\n",
        "  if letra == '{': #regla 1\n",
        "    pilaControl.push('{')\n",
        "  elif letra == '}': #regla 2\n",
        "    basura = pilaControl.pop()\n",
        "  else:\n",
        "    pass\n",
        "\n",
        "#NOTA: Este codigo aun no contempla balanceo de mas llaves de cierre\n",
        "if pilaControl.peek() == '#':\n",
        "  print('El codigo esta correctamente balanceado')\n",
        "else:\n",
        "  print('El codigo no está blanceado en llaves { y }')"
      ],
      "execution_count": 9,
      "outputs": [
        {
          "output_type": "stream",
          "name": "stdout",
          "text": [
            "El codigo no está blanceado en llaves { y }\n"
          ]
        }
      ]
    },
    {
      "cell_type": "markdown",
      "metadata": {
        "id": "q1KytjqT7Ly4"
      },
      "source": [
        "#Aplicacion de pilas.\n",
        "##Estrategia de diseño de algoritmos BACKTRACKING"
      ]
    }
  ]
}