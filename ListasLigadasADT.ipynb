{
  "nbformat": 4,
  "nbformat_minor": 0,
  "metadata": {
    "colab": {
      "name": "ListasLigadasADT.ipynb",
      "provenance": [],
      "authorship_tag": "ABX9TyOeWVelp0j7qUhppPcZnP2L",
      "include_colab_link": true
    },
    "kernelspec": {
      "name": "python3",
      "display_name": "Python 3"
    },
    "language_info": {
      "name": "python"
    }
  },
  "cells": [
    {
      "cell_type": "markdown",
      "metadata": {
        "id": "view-in-github",
        "colab_type": "text"
      },
      "source": [
        "<a href=\"https://colab.research.google.com/github/CarloIker/EJERCICIOS/blob/main/ListasLigadasADT.ipynb\" target=\"_parent\"><img src=\"https://colab.research.google.com/assets/colab-badge.svg\" alt=\"Open In Colab\"/></a>"
      ]
    },
    {
      "cell_type": "markdown",
      "metadata": {
        "id": "IZQfWNNP0rhv"
      },
      "source": [
        "#Ejercicio clase nodo\n",
        "- Crear un nodo\n",
        "  - imprimir el valor del nodo\n",
        "- Crear dos nodos\n",
        "  - imprimir el valor del primero\n",
        "  - imprimir el valor del segundo\n",
        "  - transversal\n",
        "- Lo mismo pero con 4 nodos 10, 20, 30, 40\n",
        "  - imprimir el valor del primero\n",
        "  - imprimir el valor del ultimo\n",
        "  - transversal\n",
        "\n",
        "##Todo esto antes de ir a la escitura formal del ADT Lista ligada"
      ]
    },
    {
      "cell_type": "code",
      "metadata": {
        "id": "AeqqgsiI0Wzk"
      },
      "source": [
        "class Nodo:\n",
        "  def __init__(self, value, siguiente = None):\n",
        "    self.data = value\n",
        "    self.next = siguiente"
      ],
      "execution_count": 2,
      "outputs": []
    },
    {
      "cell_type": "code",
      "metadata": {
        "colab": {
          "base_uri": "https://localhost:8080/"
        },
        "id": "iQvV0b4D1s7-",
        "outputId": "863acb93-3035-448c-ab81-881679224b58"
      },
      "source": [
        "head = Nodo(10)\n",
        "print(head.data)"
      ],
      "execution_count": 3,
      "outputs": [
        {
          "output_type": "stream",
          "name": "stdout",
          "text": [
            "10\n"
          ]
        }
      ]
    },
    {
      "cell_type": "code",
      "metadata": {
        "colab": {
          "base_uri": "https://localhost:8080/"
        },
        "id": "C0cNE-lJ2ecg",
        "outputId": "ec1388ed-4542-4560-f953-3fb6c31ac914"
      },
      "source": [
        "head = Nodo(10)\n",
        "head.next = Nodo(20)\n",
        "print(f'Primero:{head.data}')\n",
        "print(f'Segundo:{head.next.data}')\n",
        "\n",
        "#lo mismo pero ahorrando codigo\n",
        "head = Nodo(10, Nodo(20))\n",
        "print(f'Primero:{head.data}')\n",
        "print(f'Segundo:{head.next.data}')\n",
        "\n",
        "#transversal\n",
        "curr_node = head\n",
        "while curr_node != None:\n",
        "  print(f'| {curr_node.data} |-->', end= '')\n",
        "  curr_node = curr_node.next\n",
        "print('')"
      ],
      "execution_count": 4,
      "outputs": [
        {
          "output_type": "stream",
          "name": "stdout",
          "text": [
            "Primero:10\n",
            "Segundo:20\n",
            "Primero:10\n",
            "Segundo:20\n",
            "| 10 |-->| 20 |-->\n"
          ]
        }
      ]
    },
    {
      "cell_type": "code",
      "metadata": {
        "colab": {
          "base_uri": "https://localhost:8080/"
        },
        "id": "ZNKyZE2l660h",
        "outputId": "b7e45b70-12ab-4b8b-baa4-1ce2c4f4584a"
      },
      "source": [
        "head = Nodo(10, Nodo(20, Nodo(30, Nodo(40))))\n",
        "curr_node = head\n",
        "while curr_node != None:\n",
        "  print(f'| {curr_node.data} |-->', end= '')\n",
        "  curr_node = curr_node.next\n",
        "print('')\n",
        "\n",
        "#imprimir el primero\n",
        "print(head.data)\n",
        "#imprimir el ultimo\n",
        "curr_node = head\n",
        "while curr_node != None:\n",
        "  curr_node = curr_node.next\n",
        "\n",
        "#Insertar el nodo 25 despues del nodo 20 y antes del nodo 30\n",
        "curr_node = head\n",
        "while curr_node.data != 20:\n",
        "  curr_node = curr_node.next\n",
        "print(curr_node.data)\n",
        "\n",
        "#Crear el nodo 25\n",
        "curr_node.next = Nodo(25, curr_node.next)\n",
        "print('Despues de insertar el 25')"
      ],
      "execution_count": 5,
      "outputs": [
        {
          "output_type": "stream",
          "name": "stdout",
          "text": [
            "| 10 |-->| 20 |-->| 30 |-->| 40 |-->\n",
            "10\n",
            "20\n"
          ]
        }
      ]
    },
    {
      "cell_type": "code",
      "metadata": {
        "id": "Z7cR49GBc5nb"
      },
      "source": [
        "class LinkedList:\n",
        "  def __init__(self):\n",
        "    self.head = None\n",
        "\n",
        "  def is_empty(self):\n",
        "    return self.head == None\n",
        "\n",
        "  def get_tail(self):\n",
        "    if self.is_empty():\n",
        "      return None\n",
        "    else:\n",
        "      curr_node = self.head\n",
        "      while curr_node.next != None:\n",
        "        curr_node = curr_node.next\n",
        "      return curr_node \n",
        "\n",
        "  def append(self, value):\n",
        "    if self.head == None:\n",
        "      self.head = Nodo(value)\n",
        "    else: \n",
        "      curr_node = self.head\n",
        "      while curr_node.next != None:\n",
        "        curr_node = curr_node.next\n",
        "      curr_node.next = Nodo(value)\n",
        "\n",
        "  def transversal(self):\n",
        "    curr_node = self.head\n",
        "    while curr_node != None:\n",
        "      print(f'| {curr_node.data} |-->', end='')\n",
        "      curr_node = curr_node.next\n",
        "    print('')\n",
        "\n",
        "  def remove(self, value):\n",
        "    if self.head == None:\n",
        "      print('Lista vacia no se puede remover nada')\n",
        "    else:\n",
        "      curr_node = self.head\n",
        "      aux = None\n",
        "      while curr_node.data != value:\n",
        "        aux = curr_node\n",
        "        curr_node = curr_node.next\n",
        "      if curr_node != None:\n",
        "        aux.next = curr_node.next\n",
        "        curr_node = None\n",
        "\n",
        "  def prepend(self, value):\n",
        "    if self.head == None:\n",
        "      print('Está vacio, no se puede hacer prepend')\n",
        "    else:\n",
        "      aux = self.head\n",
        "      self.head = Nodo(value, aux)"
      ],
      "execution_count": 32,
      "outputs": []
    },
    {
      "cell_type": "code",
      "metadata": {
        "colab": {
          "base_uri": "https://localhost:8080/"
        },
        "id": "2NtGQIwXfbjj",
        "outputId": "a0a01e07-2e84-4d68-ef4d-8051685b4a4f"
      },
      "source": [
        "lista = LinkedList()\n",
        "if lista.is_empty():\n",
        "  print('La lista está vacia')\n",
        "else:\n",
        "  print('La lista no está vacia')\n",
        "\n",
        "lista.append(10)\n",
        "lista.append(20)\n",
        "lista.append(30)\n",
        "lista.append(30)\n",
        "lista.append(40)\n",
        "lista.append(50)\n",
        "nodo = lista.get_tail()\n",
        "if nodo != None:\n",
        "  print(nodo.data)\n",
        "else:\n",
        "  print('La lista está vacia')\n",
        "\n",
        "lista.transversal()\n",
        "lista.remove(30)\n",
        "lista.transversal()\n",
        "lista.prepend(5)\n",
        "lista.transversal()"
      ],
      "execution_count": 33,
      "outputs": [
        {
          "output_type": "stream",
          "name": "stdout",
          "text": [
            "La lista está vacia\n",
            "50\n",
            "| 10 |-->| 20 |-->| 30 |-->| 30 |-->| 40 |-->| 50 |-->\n",
            "| 10 |-->| 20 |-->| 30 |-->| 40 |-->| 50 |-->\n",
            "| 5 |-->| 10 |-->| 20 |-->| 30 |-->| 40 |-->| 50 |-->\n"
          ]
        }
      ]
    }
  ]
}