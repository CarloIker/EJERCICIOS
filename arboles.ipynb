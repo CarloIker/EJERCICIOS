{
  "nbformat": 4,
  "nbformat_minor": 0,
  "metadata": {
    "colab": {
      "name": "arboles.ipynb",
      "provenance": [],
      "authorship_tag": "ABX9TyNUTaAWmhka06+607lgi1p4",
      "include_colab_link": true
    },
    "kernelspec": {
      "name": "python3",
      "display_name": "Python 3"
    },
    "language_info": {
      "name": "python"
    }
  },
  "cells": [
    {
      "cell_type": "markdown",
      "metadata": {
        "id": "view-in-github",
        "colab_type": "text"
      },
      "source": [
        "<a href=\"https://colab.research.google.com/github/CarloIker/EJERCICIOS/blob/main/arboles.ipynb\" target=\"_parent\"><img src=\"https://colab.research.google.com/assets/colab-badge.svg\" alt=\"Open In Colab\"/></a>"
      ]
    },
    {
      "cell_type": "code",
      "metadata": {
        "id": "zx9bJo37CDGe"
      },
      "source": [
        "class NodoBinario:\n",
        "    def __init__( self , value , left=None , right=None ):\n",
        "        self.data = value\n",
        "        self.left = left\n",
        "        self.right = right\n",
        "\n",
        "class NodoTernario:\n",
        "    def __init__( self , value , left = None , center = None , right = None ):\n",
        "        self.data = value\n",
        "        self.left = left\n",
        "        self.center = center\n",
        "        self.right = right"
      ],
      "execution_count": 10,
      "outputs": []
    },
    {
      "cell_type": "code",
      "metadata": {
        "colab": {
          "base_uri": "https://localhost:8080/"
        },
        "id": "iWG1rT5eD4LH",
        "outputId": "7da467c7-e4a3-4701-a2e2-472fd1c6485a"
      },
      "source": [
        "arbol1 = NodoBinario( \"R\" , NodoBinario (\"C\") , NodoBinario(\"H\"))\n",
        "print(arbol1.right.data)\n",
        "\n",
        "arbol2 = NodoTernario( 4 , NodoTernario(3 , NodoTernario(5 , left = NodoTernario(2)) \\\n",
        "        , NodoTernario(5) , NodoTernario(2))  , None , NodoTernario(5))\n",
        "print(arbol2.left.right.data)\n",
        "print(arbol2.data)\n",
        "print(arbol2.left.center.data)\n",
        "print(arbol2.left.left.left.data)\n",
        "print(\"------ sin usar la palabra left en el print ------\")\n",
        "ejemplo = arbol2.left.left.left.data\n",
        "print(ejemplo)\n",
        "aux = arbol2\n",
        "while( aux.left != None ):\n",
        "    aux = aux.left\n",
        "print( aux.data )\n",
        "\n",
        "arbol3 = NodoBinario( \"Santi\" , None ,NodoBinario( \"Jesus\" ,NodoBinario( \"Pedro Jr.\" ,None, NodoBinario(\"Pedro Jr\"))))\n",
        "print( arbol3.right.left.right.data)"
      ],
      "execution_count": 5,
      "outputs": [
        {
          "output_type": "stream",
          "name": "stdout",
          "text": [
            "H\n",
            "2\n",
            "4\n",
            "5\n",
            "2\n",
            "------ sin usar la palabra left en el print ------\n",
            "2\n",
            "2\n",
            "Pedro Jr\n"
          ]
        }
      ]
    },
    {
      "cell_type": "code",
      "metadata": {
        "id": "tELCLYL72ki5"
      },
      "source": [
        "class NodoBinario:\n",
        "  def __init__(self, value, left = None, right = None):\n",
        "    self.data = value\n",
        "    self.left = left\n",
        "    self.right = right\n",
        "\n",
        "class BinarySearchTree:\n",
        "  def __init__(self):\n",
        "    self.root = None\n",
        "\n",
        "  def insert(self, value):\n",
        "    if self.root == None:\n",
        "      self.root = NodoBinario(value)\n",
        "    else:\n",
        "      self.root = self.__insert_nodo(self.root, value)\n",
        "\n",
        "  def __insert_nodo(self, nodo, value):\n",
        "    if nodo.data == value:\n",
        "      pass\n",
        "    elif value < nodo.data: #ir a la izquierda\n",
        "      if nodo.left == None:\n",
        "        nodo.left = NodoBinario(value)\n",
        "      else:\n",
        "        self.__insert_nodo(nodo.left, value)\n",
        "    else: #ir a la derecha\n",
        "      if nodo.right == None:\n",
        "        nodo.right = NodoBinario(value)\n",
        "      else:\n",
        "        self.__insert_nodo(nodo.right, value)\n",
        "  \n",
        "  def transversal(self, formato = \"posorden\"):\n",
        "    if formato == \"posorden\":\n",
        "      self.recorrido_pos(self.root)\n",
        "    elif formato == \"preorden\":\n",
        "      self.recorrido_pre(self.root)\n",
        "    else:\n",
        "      self.recorrido_in(self.root)\n",
        "    print()\n",
        "\n",
        "  def recorrido_pos(self, nodo):\n",
        "    if nodo != None:\n",
        "      self.recorrido_pos(nodo.left)\n",
        "      self.recorrido_pos(nodo.right)\n",
        "      print(str(nodo.data), end= \" , \")\n",
        "\n",
        "  def recorrido_pre(self, nodo):\n",
        "    if nodo != None:\n",
        "      print(str(nodo.data), end= \" , \")\n",
        "      self.recorrido_pre(nodo.left)\n",
        "      self.recorrido_pre(nodo.right)\n",
        "\n",
        "  def recorrido_in(self, nodo):\n",
        "    if nodo != None:\n",
        "      self.recorrido_in(nodo.left)\n",
        "      print(str(nodo.data), end= \" , \")\n",
        "      self.recorrido_in(nodo.right)\n",
        "\n",
        "  def search(self, value):\n",
        "    if self.root == None:\n",
        "      print('El arbol está vacio')\n",
        "      return None\n",
        "    else:\n",
        "      self.__search(self.root, value)\n",
        "\n",
        "  def __search(self, nodo, value):\n",
        "    if nodo.data == None:\n",
        "      print('El dato no existe en el arbol')\n",
        "      return None\n",
        "    elif nodo.data == value:\n",
        "      print('Encontrado')\n",
        "      return nodo\n",
        "    elif value < nodo.data:\n",
        "      return self.__buscar(nodo.left, value)\n",
        "    else:\n",
        "      return self.__buscar(nodo.right, value)"
      ],
      "execution_count": 48,
      "outputs": []
    },
    {
      "cell_type": "code",
      "metadata": {
        "colab": {
          "base_uri": "https://localhost:8080/"
        },
        "id": "xIoSdCUl9hyK",
        "outputId": "14483616-1939-42cb-865a-a63cc698b9f2"
      },
      "source": [
        "arb1 = BinarySearchTree()\n",
        "arb1.insert(60)\n",
        "arb1.insert(30)\n",
        "arb1.insert(15)\n",
        "arb1.insert(40)\n",
        "arb1.transversal(\"posorden\")\n",
        "arb1.transversal(\"preorden\")\n",
        "arb1.transversal(\"inorden\")"
      ],
      "execution_count": 49,
      "outputs": [
        {
          "output_type": "stream",
          "name": "stdout",
          "text": [
            "\n",
            "\n",
            "\n"
          ]
        }
      ]
    }
  ]
}