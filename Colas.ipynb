{
  "nbformat": 4,
  "nbformat_minor": 0,
  "metadata": {
    "colab": {
      "name": "Colas.ipynb",
      "provenance": [],
      "authorship_tag": "ABX9TyPQJORHRSviKK6J/p/qZJZW",
      "include_colab_link": true
    },
    "kernelspec": {
      "name": "python3",
      "display_name": "Python 3"
    },
    "language_info": {
      "name": "python"
    }
  },
  "cells": [
    {
      "cell_type": "markdown",
      "metadata": {
        "id": "view-in-github",
        "colab_type": "text"
      },
      "source": [
        "<a href=\"https://colab.research.google.com/github/CarloIker/EJERCICIOS/blob/main/Colas.ipynb\" target=\"_parent\"><img src=\"https://colab.research.google.com/assets/colab-badge.svg\" alt=\"Open In Colab\"/></a>"
      ]
    },
    {
      "cell_type": "code",
      "metadata": {
        "id": "PjjvG0EDJ-_O"
      },
      "source": [
        "class Queue:\n",
        "  def __init__(self):\n",
        "    self.data = []\n",
        "\n",
        "  def is_empty(self):\n",
        "    return len(self.data) == 0\n",
        "\n",
        "  def lenght(self):\n",
        "    return len(self.data)\n",
        "\n",
        "  def enqueue(self, value):\n",
        "    self.data.append(value)\n",
        "\n",
        "  def dequeue(self):\n",
        "    return self.data.pop(0)\n",
        "\n",
        "  def to_String(self):\n",
        "    for elem in self.data:\n",
        "      print(f'| {elem} |<--', end=\"\")\n",
        "    print(\" \")"
      ],
      "execution_count": 4,
      "outputs": []
    },
    {
      "cell_type": "code",
      "metadata": {
        "colab": {
          "base_uri": "https://localhost:8080/"
        },
        "id": "TE3HMNZmMfUv",
        "outputId": "7b1cc431-f0ed-4c8a-9571-76d35a1b0a85"
      },
      "source": [
        "cola = Queue()\n",
        "print('Está vacio??: ', cola.is_empty())\n",
        "print('Numero de elementos = ', cola.lenght())\n",
        "cola.enqueue(10)\n",
        "cola.enqueue(20)\n",
        "cola.enqueue(30)\n",
        "print('Está vacio??: ', cola.is_empty())\n",
        "print('Numero de elementos = ', cola.lenght())\n",
        "cola.enqueue(40)\n",
        "cola.enqueue(50)\n",
        "cola.enqueue(60)\n",
        "cola.to_String()\n",
        "siguiente = cola.dequeue()\n",
        "print('Atendiendo a: ', siguiente)\n",
        "cola.to_String()"
      ],
      "execution_count": 8,
      "outputs": [
        {
          "output_type": "stream",
          "name": "stdout",
          "text": [
            "Está vacio??:  True\n",
            "Numero de elementos =  0\n",
            "Está vacio??:  False\n",
            "Numero de elementos =  3\n",
            "| 10 |<--| 20 |<--| 30 |<--| 40 |<--| 50 |<--| 60 |<-- \n",
            "Atendiendo a:  10\n",
            "| 20 |<--| 30 |<--| 40 |<--| 50 |<--| 60 |<-- \n"
          ]
        }
      ]
    },
    {
      "cell_type": "markdown",
      "metadata": {
        "id": "yTIRI7PMQgqA"
      },
      "source": [
        "#Variantes del ADT Cola\n",
        "1. Circulares\n",
        "2. Prioridad\n",
        "  1. Acotada\n",
        "  2. No acotada"
      ]
    }
  ]
}