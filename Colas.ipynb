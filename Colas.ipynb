{
  "nbformat": 4,
  "nbformat_minor": 0,
  "metadata": {
    "colab": {
      "name": "Colas.ipynb",
      "provenance": [],
      "authorship_tag": "ABX9TyMLoWfHwKXUPNJn0cTPOLpd",
      "include_colab_link": true
    },
    "kernelspec": {
      "name": "python3",
      "display_name": "Python 3"
    },
    "language_info": {
      "name": "python"
    }
  },
  "cells": [
    {
      "cell_type": "markdown",
      "metadata": {
        "id": "view-in-github",
        "colab_type": "text"
      },
      "source": [
        "<a href=\"https://colab.research.google.com/github/CarloIker/EJERCICIOS/blob/main/Colas.ipynb\" target=\"_parent\"><img src=\"https://colab.research.google.com/assets/colab-badge.svg\" alt=\"Open In Colab\"/></a>"
      ]
    },
    {
      "cell_type": "code",
      "metadata": {
        "id": "PjjvG0EDJ-_O"
      },
      "source": [
        "class Queue:\n",
        "  def __init__(self):\n",
        "    self.data = []\n",
        "\n",
        "  def is_empty(self):\n",
        "    return len(self.data) == 0\n",
        "\n",
        "  def lenght(self):\n",
        "    return len(self.data)\n",
        "\n",
        "  def enqueue(self, value):\n",
        "    self.data.append(value)\n",
        "\n",
        "  def dequeue(self):\n",
        "    return self.data.pop(0)\n",
        "\n",
        "  def to_String(self):\n",
        "    for elem in self.data:\n",
        "      print(f'| {elem} |<--', end=\"\")\n",
        "    print(\" \")"
      ],
      "execution_count": 1,
      "outputs": []
    },
    {
      "cell_type": "code",
      "metadata": {
        "colab": {
          "base_uri": "https://localhost:8080/"
        },
        "id": "TE3HMNZmMfUv",
        "outputId": "4676d2f1-3fc1-49bc-8397-77212c58f35a"
      },
      "source": [
        "cola = Queue()\n",
        "print('Está vacio??: ', cola.is_empty())\n",
        "print('Numero de elementos = ', cola.lenght())\n",
        "cola.enqueue(10)\n",
        "cola.enqueue(20)\n",
        "cola.enqueue(30)\n",
        "print('Está vacio??: ', cola.is_empty())\n",
        "print('Numero de elementos = ', cola.lenght())\n",
        "cola.enqueue(40)\n",
        "cola.enqueue(50)\n",
        "cola.enqueue(60)\n",
        "cola.enqueue(15)\n",
        "cola.to_String()\n",
        "siguiente = cola.dequeue()\n",
        "print('Atendiendo a: ', siguiente)\n",
        "cola.to_String()"
      ],
      "execution_count": null,
      "outputs": [
        {
          "output_type": "stream",
          "name": "stdout",
          "text": [
            "Está vacio??:  True\n",
            "Numero de elementos =  0\n",
            "Está vacio??:  False\n",
            "Numero de elementos =  3\n",
            "| 10 |<--| 20 |<--| 30 |<--| 40 |<--| 50 |<--| 60 |<--| 15 |<-- \n",
            "Atendiendo a:  10\n",
            "| 20 |<--| 30 |<--| 40 |<--| 50 |<--| 60 |<--| 15 |<-- \n"
          ]
        }
      ]
    },
    {
      "cell_type": "markdown",
      "metadata": {
        "id": "yTIRI7PMQgqA"
      },
      "source": [
        "#Variantes del ADT Cola\n",
        "1. Circulares\n",
        "2. Prioridad\n",
        "  1. Acotada\n",
        "  2. No acotada"
      ]
    },
    {
      "cell_type": "code",
      "metadata": {
        "id": "Egsuq-ZYuy6C"
      },
      "source": [
        "class PriorityQueue:\n",
        "  def __init__(self):\n",
        "    self.data = [[], [], [], [], []]\n",
        "\n",
        "  def is_empty(self):\n",
        "    return len(self.data) == 0\n",
        "\n",
        "  def lenght(self):\n",
        "    return len(self.data)\n",
        "\n",
        "  def enqueue(self, prioridad, elem):\n",
        "    self.data[prioridad-1].append(elem)\n",
        "\n",
        "  def dequeue(self):\n",
        "    del self.data[0][0]\n",
        "    if len(self.data[0]) == 0:\n",
        "      del self.data[0]\n",
        "\n",
        "  def to_String(self):\n",
        "    for elem in self.data:\n",
        "      print(f'|{elem} |<--', end=\"\")\n",
        "    print(\" \")"
      ],
      "execution_count": 2,
      "outputs": []
    },
    {
      "cell_type": "code",
      "metadata": {
        "colab": {
          "base_uri": "https://localhost:8080/"
        },
        "id": "ntQLmhdw6CM6",
        "outputId": "5840254b-13c2-4f27-f57d-f05293507aed"
      },
      "source": [
        "cola = PriorityQueue()\n",
        "cola.enqueue(4, 'Maestros')\n",
        "cola.enqueue(2, 'Niños')\n",
        "cola.enqueue(4, 'Mecanico')\n",
        "cola.enqueue(3, 'Hombres')\n",
        "cola.enqueue(4, 'Vigia')\n",
        "cola.enqueue(5, 'Capitan')\n",
        "cola.enqueue(4, 'Timonel')\n",
        "cola.enqueue(3, 'Mujeres')\n",
        "cola.enqueue(2, '3ra edad')\n",
        "cola.enqueue(1, 'Niñas')\n",
        "cola.to_String()\n",
        "\n",
        "cola.dequeue()\n",
        "cola.to_String()"
      ],
      "execution_count": null,
      "outputs": [
        {
          "output_type": "stream",
          "name": "stdout",
          "text": [
            "|['Niñas'] |<--|['Niños', '3ra edad'] |<--|['Hombres', 'Mujeres'] |<--|['Maestros', 'Mecanico', 'Vigia', 'Timonel'] |<--|['Capitan'] |<-- \n",
            "|['Niños', '3ra edad'] |<--|['Hombres', 'Mujeres'] |<--|['Maestros', 'Mecanico', 'Vigia', 'Timonel'] |<--|['Capitan'] |<-- \n"
          ]
        }
      ]
    },
    {
      "cell_type": "code",
      "metadata": {
        "id": "Ungykg41DwCA"
      },
      "source": [
        "#Implementacion de la cola de prioridad acotada\n",
        "\n",
        "class BoundedPriorityQueue:\n",
        "  def __init__(self, niveles):\n",
        "    self.__data = [Queue() for x in range(niveles)]\n",
        "    # self.__data = Array(niveles)\n",
        "    # self.__data.clear(Queue())\n",
        "    self.__size = 0\n",
        "\n",
        "  def is_empty(self):\n",
        "    return self.__size == 0\n",
        "\n",
        "  def lenght(self):\n",
        "    return self.__size\n",
        "\n",
        "  def enqueue(self, prioridad, elem):\n",
        "    if prioridad < len(self.__data) and prioridad >= 0:\n",
        "      self.__data[prioridad].enqueue(elem)\n",
        "      self.__size += 1\n",
        "  \n",
        "  def dequeue(self):\n",
        "    nivel = 0\n",
        "    while self.__data[nivel].is_empty() and nivel < self.lenght():\n",
        "      nivel += 1\n",
        "    if nivel >= self.lenght():\n",
        "      print('La cola está vacía')\n",
        "    else:\n",
        "      return self.__data[nivel].dequeue\n",
        "\n",
        "  def to_String(self):\n",
        "    prioridad = 0\n",
        "    for cola in self.__data:\n",
        "      print(f'Prioridad {prioridad} ->', end=\" \")\n",
        "      cola.to_String()\n",
        "      prioridad +=1"
      ],
      "execution_count": 13,
      "outputs": []
    },
    {
      "cell_type": "code",
      "metadata": {
        "colab": {
          "base_uri": "https://localhost:8080/"
        },
        "id": "69ECvkliLR8h",
        "outputId": "2122dc1e-fadd-4d09-f8fb-7cff0be65f01"
      },
      "source": [
        "salvavidas = BoundedPriorityQueue(7)\n",
        "salvavidas.enqueue(4, 'Maestre')\n",
        "salvavidas.enqueue(1, 'Niños')\n",
        "salvavidas.enqueue(4, 'Mecanico')\n",
        "salvavidas.enqueue(3, 'Mujeres')\n",
        "salvavidas.enqueue(2, 'Tercera Edad')\n",
        "salvavidas.enqueue(1, 'Niñas')\n",
        "salvavidas.enqueue(3, 'Hombres')\n",
        "salvavidas.enqueue(4, 'Vigia')\n",
        "salvavidas.enqueue(5, 'Capitan')\n",
        "salvavidas.enqueue(4, 'Tiomonel')\n",
        "salvavidas.to_String()\n",
        "sig = salvavidas.dequeue()\n",
        "print(f'Subiendo {sig} al bote salvavidad!!')\n",
        "salvavidas.to_String()\n",
        "sig = salvavidas.dequeue()\n",
        "print(f'Subiendo {sig} al bote salvavidad!!')\n",
        "salvavidas.to_String()"
      ],
      "execution_count": 16,
      "outputs": [
        {
          "output_type": "stream",
          "name": "stdout",
          "text": [
            "Prioridad 0 ->  \n",
            "Prioridad 1 -> | Niños |<--| Niñas |<-- \n",
            "Prioridad 2 -> | Tercera Edad |<-- \n",
            "Prioridad 3 -> | Mujeres |<--| Hombres |<-- \n",
            "Prioridad 4 -> | Maestre |<--| Mecanico |<--| Vigia |<--| Tiomonel |<-- \n",
            "Prioridad 5 -> | Capitan |<-- \n",
            "Prioridad 6 ->  \n",
            "Subiendo <bound method Queue.dequeue of <__main__.Queue object at 0x7f11eb028c50>> al bote salvavidad!!\n",
            "Prioridad 0 ->  \n",
            "Prioridad 1 -> | Niños |<--| Niñas |<-- \n",
            "Prioridad 2 -> | Tercera Edad |<-- \n",
            "Prioridad 3 -> | Mujeres |<--| Hombres |<-- \n",
            "Prioridad 4 -> | Maestre |<--| Mecanico |<--| Vigia |<--| Tiomonel |<-- \n",
            "Prioridad 5 -> | Capitan |<-- \n",
            "Prioridad 6 ->  \n",
            "Subiendo <bound method Queue.dequeue of <__main__.Queue object at 0x7f11eb028c50>> al bote salvavidad!!\n",
            "Prioridad 0 ->  \n",
            "Prioridad 1 -> | Niños |<--| Niñas |<-- \n",
            "Prioridad 2 -> | Tercera Edad |<-- \n",
            "Prioridad 3 -> | Mujeres |<--| Hombres |<-- \n",
            "Prioridad 4 -> | Maestre |<--| Mecanico |<--| Vigia |<--| Tiomonel |<-- \n",
            "Prioridad 5 -> | Capitan |<-- \n",
            "Prioridad 6 ->  \n"
          ]
        }
      ]
    },
    {
      "cell_type": "code",
      "metadata": {
        "id": "1DZuJpQuR0yy"
      },
      "source": [
        "#Implementacion de las colas de prioridad\n",
        "\n",
        "class PriorityQueue:\n",
        "  def __init__(self):\n",
        "    self.__data = []\n",
        "    self.__size = 0\n",
        "  \n",
        "  def is_empty(self):\n",
        "    return self.__size == 0\n",
        "\n",
        "  def lenght(self):\n",
        "    return self.__size\n",
        "\n",
        "  def enqueue(self , prioridad , elem ):\n",
        "    existe = False\n",
        "    indice = 0\n",
        "    for index in range(len(self.__data)):\n",
        "      if self.__data[index][ \"prioridad\" ] == prioridad:\n",
        "        existe = True\n",
        "        indice = index\n",
        "        \n",
        "    if existe:\n",
        "      self.__data[indice][\"cola\"].enqueue(elem)\n",
        "    else:\n",
        "      self.__data.append( {\"prioridad\":prioridad , \"cola\": Queue() } )\n",
        "      self.__data[-1][\"cola\"].enqueue(elem)\n",
        "  \n",
        "  def to_String(self):\n",
        "    for cola in self.__data:\n",
        "      cola['cola'].to_String()"
      ],
      "execution_count": 28,
      "outputs": []
    },
    {
      "cell_type": "code",
      "metadata": {
        "colab": {
          "base_uri": "https://localhost:8080/"
        },
        "id": "VG3sdkNuWol8",
        "outputId": "aa3428a1-4033-4261-df27-401249252c3c"
      },
      "source": [
        "cp = PriorityQueue()\n",
        "cp.enqueue(1, 'Niños')\n",
        "cp.enqueue(2, 'Niñas')\n",
        "cp.enqueue(2, 'Profesores')\n",
        "cp.to_String()"
      ],
      "execution_count": 29,
      "outputs": [
        {
          "output_type": "stream",
          "name": "stdout",
          "text": [
            "| Niños |<-- \n",
            "| Niñas |<--| Profesores |<-- \n"
          ]
        }
      ]
    }
  ]
}